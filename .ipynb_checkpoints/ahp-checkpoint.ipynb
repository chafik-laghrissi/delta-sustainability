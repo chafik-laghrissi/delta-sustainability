{
 "cells": [
  {
   "cell_type": "code",
   "execution_count": 4,
   "id": "e90053c1",
   "metadata": {},
   "outputs": [],
   "source": [
    "def pair_wise_matrix_gen(a_b:float,a_c:float,b_c:float)->list:\n",
    "    \"\"\"\n",
    "    \"\"\"\n",
    "    return [[1,a_b,a_c],[1/a_b,1,b_c],[1/a_c,1/b_c,1]]"
   ]
  },
  {
   "cell_type": "code",
   "execution_count": 67,
   "id": "8c40f498",
   "metadata": {},
   "outputs": [],
   "source": [
    "def weight_cal(pair_wise_matrix:list)->list:\n",
    "    s1=[]\n",
    "    s2=[]\n",
    "    s3=[]\n",
    "    for nm in pair_wise_matrix:\n",
    "        s1.append(nm[0])\n",
    "        s2.append(nm[1])\n",
    "        s3.append(nm[2])\n",
    "    s=[sum(s1),sum(s2),sum(s3)]\n",
    "    tmp_list=[[0,0,0],[0,0,0],[0,0,0]]\n",
    "    for index1,i in enumerate(pair_wise_matrix):\n",
    "        for index2,j in enumerate(i):\n",
    "            tmp_list[index1][index2]=j/s[index2]\n",
    "    for index,i in enumerate(tmp_list):\n",
    "        s[index]=sum(i)/len(i)\n",
    "    return s"
   ]
  }
 ],
 "metadata": {
  "kernelspec": {
   "display_name": "Python 3 (ipykernel)",
   "language": "python",
   "name": "python3"
  },
  "language_info": {
   "codemirror_mode": {
    "name": "ipython",
    "version": 3
   },
   "file_extension": ".py",
   "mimetype": "text/x-python",
   "name": "python",
   "nbconvert_exporter": "python",
   "pygments_lexer": "ipython3",
   "version": "3.9.7"
  }
 },
 "nbformat": 4,
 "nbformat_minor": 5
}
