{
 "cells": [
  {
   "cell_type": "code",
   "execution_count": 4,
   "id": "2696ffa4",
   "metadata": {},
   "outputs": [],
   "source": [
    "def pair_wise_matrix_gen(a_b:float,a_c:float,b_c:float)->list:\n",
    "    return [[1,a_b,a_c],[1/a_b,1,b_c],[1/a_c,1/b_c,1]]"
   ]
  },
  {
   "cell_type": "code",
   "execution_count": 67,
   "id": "fee0d0b3",
   "metadata": {},
   "outputs": [],
   "source": [
    "def weight_cal(pair_wise_matrix:list)->list:\n",
    "    s1=[]\n",
    "    s2=[]\n",
    "    s3=[]\n",
    "    for nm in pair_wise_matrix:\n",
    "        s1.append(nm[0])\n",
    "        s2.append(nm[1])\n",
    "        s3.append(nm[2])\n",
    "    s=[sum(s1),sum(s2),sum(s3)]\n",
    "    tmp_list=[[0,0,0],[0,0,0],[0,0,0]]\n",
    "    for index1,i in enumerate(pair_wise_matrix):\n",
    "        for index2,j in enumerate(i):\n",
    "            tmp_list[index1][index2]=j/s[index2]\n",
    "    for index,i in enumerate(tmp_list):\n",
    "        s[index]=sum(i)/len(i)\n",
    "    return s"
   ]
  },
  {
   "cell_type": "code",
   "execution_count": 68,
   "id": "baed97b9",
   "metadata": {},
   "outputs": [
    {
     "data": {
      "text/plain": [
       "[[1, 3, 5], [0.3333333333333333, 1, 1], [0.2, 1.0, 1]]"
      ]
     },
     "execution_count": 68,
     "metadata": {},
     "output_type": "execute_result"
    }
   ],
   "source": [
    "mt=pair_wise_matrix_gen(3,5,1)\n",
    "mt"
   ]
  },
  {
   "cell_type": "code",
   "execution_count": 69,
   "id": "ce10a968",
   "metadata": {},
   "outputs": [
    {
     "data": {
      "text/plain": [
       "[0.6554865424430641, 0.1867494824016563, 0.1577639751552795]"
      ]
     },
     "execution_count": 69,
     "metadata": {},
     "output_type": "execute_result"
    }
   ],
   "source": [
    "weight_cal(mt)"
   ]
  },
  {
   "cell_type": "code",
   "execution_count": 70,
   "id": "02be773b",
   "metadata": {},
   "outputs": [
    {
     "name": "stdout",
     "output_type": "stream",
     "text": [
      "0\n",
      "1\n",
      "2\n"
     ]
    }
   ],
   "source": [
    "for i, index in enumerate(mt):\n",
    "    print(i)"
   ]
  },
  {
   "cell_type": "code",
   "execution_count": 66,
   "id": "4403b51e",
   "metadata": {},
   "outputs": [
    {
     "data": {
      "text/plain": [
       "range(3, 3)"
      ]
     },
     "execution_count": 66,
     "metadata": {},
     "output_type": "execute_result"
    }
   ],
   "source": []
  },
  {
   "cell_type": "code",
   "execution_count": null,
   "id": "17bd2c0a",
   "metadata": {},
   "outputs": [],
   "source": []
  }
 ],
 "metadata": {
  "kernelspec": {
   "display_name": "Python 3 (ipykernel)",
   "language": "python",
   "name": "python3"
  },
  "language_info": {
   "codemirror_mode": {
    "name": "ipython",
    "version": 3
   },
   "file_extension": ".py",
   "mimetype": "text/x-python",
   "name": "python",
   "nbconvert_exporter": "python",
   "pygments_lexer": "ipython3",
   "version": "3.9.7"
  }
 },
 "nbformat": 4,
 "nbformat_minor": 5
}
